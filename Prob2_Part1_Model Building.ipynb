{
 "cells": [
  {
   "cell_type": "markdown",
   "metadata": {},
   "source": [
    "#Data Science test \n",
    "\n",
    "Ce document décrit la première partie de la solution du deuxième problème listé dans les documents \"test.pdf\", le cahier est divisé en plusieurs parties :\n",
    "\n",
    "* Problèmes 2 : Extraction d'informations basée sur des données non structurées, dans ce cas, les informations à extraire sont les **valeurs** de TTC. \n"
   ]
  },
  {
   "cell_type": "markdown",
   "metadata": {},
   "source": [
    "# Import des librairies"
   ]
  },
  {
   "cell_type": "code",
   "execution_count": 649,
   "metadata": {
    "collapsed": true
   },
   "outputs": [],
   "source": [
    "import pandas as pd\n",
    "import numpy as np\n",
    "import spacy\n",
    "import gensim\n",
    "import nltk\n",
    "from nltk.corpus import stopwords, wordnet\n",
    "from nltk.tokenize import word_tokenize\n",
    "from nltk.stem import WordNetLemmatizer\n",
    "import gensim\n",
    "from gensim.models.doc2vec import Doc2Vec, TaggedDocument\n",
    "import translate\n",
    "import multiprocessing\n",
    "import xgboost as xgb\n",
    "import sklearn\n",
    "from sklearn.utils import shuffle\n",
    "from sklearn.model_selection import train_test_split\n",
    "from sklearn.metrics import confusion_matrix, classification_report\n",
    "from sklearn.metrics import accuracy_score\n",
    "import pickle"
   ]
  },
  {
   "cell_type": "markdown",
   "metadata": {},
   "source": [
    "# Lecture des données"
   ]
  },
  {
   "cell_type": "code",
   "execution_count": 573,
   "metadata": {
    "collapsed": true
   },
   "outputs": [],
   "source": [
    "df = pd.read_csv(\"train.csv\", sep=\",\")"
   ]
  },
  {
   "cell_type": "markdown",
   "metadata": {},
   "source": [
    "# Nettoyage de textes"
   ]
  },
  {
   "cell_type": "code",
   "execution_count": 571,
   "metadata": {
    "collapsed": true
   },
   "outputs": [],
   "source": [
    "fr_stop_words = [\n",
    " 'à'\n",
    " 'au',\n",
    " 'aux',\n",
    " 'avec',\n",
    " 'ce',\n",
    " 'ces',\n",
    " 'dans',\n",
    " 'sous',\n",
    " 'de',\n",
    " 'des',\n",
    " 'du',\n",
    " 'elle',\n",
    " 'en',\n",
    " 'et',\n",
    " 'eux',\n",
    " 'il',\n",
    " 'ils',\n",
    " 'je',\n",
    " 'la',\n",
    " 'le',\n",
    " 'les',\n",
    " 'leur',\n",
    " 'lui',\n",
    " 'ma',\n",
    " 'mais',\n",
    " 'me',\n",
    " 'même',\n",
    " 'mes',\n",
    " 'moi',\n",
    " 'mon',\n",
    " 'ne',\n",
    " 'nos',\n",
    " 'notre',\n",
    " 'nous',\n",
    " 'on',\n",
    " 'ou',\n",
    " 'par',\n",
    " 'pas',\n",
    " 'pour',\n",
    " 'qu',\n",
    " 'que',\n",
    " 'qui',\n",
    " 'sa',\n",
    " 'se',\n",
    " 'ses',\n",
    " 'son',\n",
    " 'sur',\n",
    " 'ta',\n",
    " 'te',\n",
    " 'tes',\n",
    " 'toi',\n",
    " 'ton',\n",
    " 'tu',\n",
    " 'un',\n",
    " 'une',\n",
    " 'vos',\n",
    " 'votre',\n",
    " 'vous',\n",
    " 'été',\n",
    " 'étée',\n",
    " 'étées',\n",
    " 'étés',\n",
    " 'étant',\n",
    " 'étante',\n",
    " 'étants',\n",
    " 'étantes',\n",
    " 'suis',\n",
    " 'es',\n",
    " 'est',\n",
    " 'sommes',\n",
    " 'êtes',\n",
    " 'sont',\n",
    " 'serai',\n",
    " 'seras',\n",
    " 'sera',\n",
    " 'serons',\n",
    " 'serez',\n",
    " 'seront',\n",
    " 'serais',\n",
    " 'serait',\n",
    " 'serions',\n",
    " 'seriez',\n",
    " 'seraient',\n",
    " 'étais',\n",
    " 'était',\n",
    " 'étions',\n",
    " 'étiez',\n",
    " 'étaient',\n",
    " 'fus',\n",
    " 'fut',\n",
    " 'fûmes',\n",
    " 'fûtes',\n",
    " 'furent',\n",
    " 'sois',\n",
    " 'soit',\n",
    " 'soyons',\n",
    " 'soyez',\n",
    " 'soient',\n",
    " 'fusse',\n",
    " 'fusses',\n",
    " 'fût',\n",
    " 'fussions',\n",
    " 'fussiez',\n",
    " 'fussent',\n",
    " 'ayant',\n",
    " 'ayante',\n",
    " 'ayantes',\n",
    " 'ayants',\n",
    " 'eu',\n",
    " 'eue',\n",
    " 'eues',\n",
    " 'eus',\n",
    " 'ai',\n",
    " 'as',\n",
    " 'avons',\n",
    " 'avez',\n",
    " 'ont',\n",
    " 'aurai',\n",
    " 'auras',\n",
    " 'aura',\n",
    " 'aurons',\n",
    " 'aurez',\n",
    " 'auront',\n",
    " 'aurais',\n",
    " 'aurait',\n",
    " 'aurions',\n",
    " 'auriez',\n",
    " 'auraient',\n",
    " 'avais',\n",
    " 'avait',\n",
    " 'avions',\n",
    " 'aviez',\n",
    " 'avaient',\n",
    " 'eut',\n",
    " 'eûmes',\n",
    " 'eûtes',\n",
    " 'eurent',\n",
    " 'aie',\n",
    " 'aies',\n",
    " 'ait',\n",
    " 'ayons',\n",
    " 'ayez',\n",
    " 'aient',\n",
    " 'eusse',\n",
    " 'eusses',\n",
    " 'eût',\n",
    " 'eussions',\n",
    " 'eussiez',\n",
    " 'eussent'\n",
    "]"
   ]
  },
  {
   "cell_type": "code",
   "execution_count": 572,
   "metadata": {
    "collapsed": true
   },
   "outputs": [],
   "source": [
    "letters = 'abcdefghijklmnopqrstuvwxyz'"
   ]
  },
  {
   "cell_type": "markdown",
   "metadata": {},
   "source": [
    "## convertir les labels en valeurs numériques"
   ]
  },
  {
   "cell_type": "code",
   "execution_count": 574,
   "metadata": {
    "collapsed": true
   },
   "outputs": [],
   "source": [
    "df[\"label\"] = df[\"label\"].apply(lambda x: x.replace(\",\", \".\"))\n",
    "df[\"label\"] = df[\"label\"].astype(float)\n",
    "df[\"label\"] = df[\"label\"].apply(lambda x: round(x,1))"
   ]
  },
  {
   "cell_type": "markdown",
   "metadata": {},
   "source": [
    "## convertir les textes en minuscules"
   ]
  },
  {
   "cell_type": "code",
   "execution_count": 575,
   "metadata": {
    "collapsed": true
   },
   "outputs": [],
   "source": [
    "df = df[df['sentence'].notnull()]\n",
    "df['sentence'] = df['sentence'].astype(str)\n",
    "df[\"sentence\"] = df[\"sentence\"].str.lower()"
   ]
  },
  {
   "cell_type": "markdown",
   "metadata": {},
   "source": [
    "## Eliminer les espaces les \"0.00\" des cotés des textes"
   ]
  },
  {
   "cell_type": "code",
   "execution_count": 576,
   "metadata": {
    "collapsed": true
   },
   "outputs": [],
   "source": [
    "df[\"sentence\"] = df[\"sentence\"].apply(lambda x: x.rstrip())\n",
    "df[\"sentence\"] = df[\"sentence\"].apply(lambda x: x.lstrip())\n",
    "df[\"sentence\"] = df[\"sentence\"].apply(lambda x: x.lstrip(\"0.00\"))"
   ]
  },
  {
   "cell_type": "markdown",
   "metadata": {},
   "source": [
    "## Supprimer les \".\" des abréviations"
   ]
  },
  {
   "cell_type": "code",
   "execution_count": 577,
   "metadata": {},
   "outputs": [
    {
     "name": "stderr",
     "output_type": "stream",
     "text": [
      "<ipython-input-577-a42371fb443e>:1: FutureWarning: The default value of regex will change from True to False in a future version.\n",
      "  df['sentence'] = df['sentence'].str.replace(\"h.t\", 'ht')\n",
      "<ipython-input-577-a42371fb443e>:2: FutureWarning: The default value of regex will change from True to False in a future version.\n",
      "  df['sentence'] = df['sentence'].str.replace(\"t.t.c\", 'ttc')\n",
      "<ipython-input-577-a42371fb443e>:3: FutureWarning: The default value of regex will change from True to False in a future version.\n",
      "  df['sentence'] = df['sentence'].str.replace(\"t.v.a\", 'tva')\n"
     ]
    }
   ],
   "source": [
    "df['sentence'] = df['sentence'].str.replace(\"h.t\", 'ht')\n",
    "df['sentence'] = df['sentence'].str.replace(\"t.t.c\", 'ttc')\n",
    "df['sentence'] = df['sentence'].str.replace(\"t.v.a\", 'tva')"
   ]
  },
  {
   "cell_type": "markdown",
   "metadata": {},
   "source": [
    "## Remplacer les \",\" par \".\""
   ]
  },
  {
   "cell_type": "code",
   "execution_count": 578,
   "metadata": {
    "collapsed": true
   },
   "outputs": [],
   "source": [
    "df[\"sentence\"] = df[\"sentence\"].apply(lambda x: x.replace(\",\" ,\".\"))"
   ]
  },
  {
   "cell_type": "markdown",
   "metadata": {},
   "source": [
    "## Reformuler certains mots"
   ]
  },
  {
   "cell_type": "code",
   "execution_count": 579,
   "metadata": {},
   "outputs": [
    {
     "name": "stderr",
     "output_type": "stream",
     "text": [
      "<ipython-input-579-34cd51738a98>:1: FutureWarning: The default value of regex will change from True to False in a future version.\n",
      "  df['sentence'] = df['sentence'].str.replace(r\"\\b\" + \"va\" + r\"\\b\", 'tva')\n",
      "<ipython-input-579-34cd51738a98>:2: FutureWarning: The default value of regex will change from True to False in a future version.\n",
      "  df['sentence'] = df['sentence'].str.replace(r\"\\b\" + \"cotal\" + r\"\\b\", 'total')\n",
      "<ipython-input-579-34cd51738a98>:3: FutureWarning: The default value of regex will change from True to False in a future version.\n",
      "  df['sentence'] = df['sentence'].str.replace(r\"\\b\" + \"soustotal\" + r\"\\b\", 'sous total')\n"
     ]
    }
   ],
   "source": [
    "df['sentence'] = df['sentence'].str.replace(r\"\\b\" + \"va\" + r\"\\b\", 'tva')\n",
    "df['sentence'] = df['sentence'].str.replace(r\"\\b\" + \"cotal\" + r\"\\b\", 'total')\n",
    "df['sentence'] = df['sentence'].str.replace(r\"\\b\" + \"soustotal\" + r\"\\b\", 'sous total')"
   ]
  },
  {
   "cell_type": "code",
   "execution_count": 580,
   "metadata": {
    "collapsed": true
   },
   "outputs": [],
   "source": [
    "fr_accent = list(\"éèàêç\")"
   ]
  },
  {
   "cell_type": "code",
   "execution_count": 581,
   "metadata": {
    "collapsed": true
   },
   "outputs": [],
   "source": [
    "df['sentence'] = df['sentence'].str.replace(\"é\", 'e')\n",
    "df['sentence'] = df['sentence'].str.replace(\"è\", 'e')\n",
    "df['sentence'] = df['sentence'].str.replace(\"ê\", 'e')\n",
    "#df['sentence'] = df['sentence'].str.replace(\"à\", 'a')\n",
    "df['sentence'] = df['sentence'].str.replace(\"ç\", 'c')"
   ]
  },
  {
   "cell_type": "markdown",
   "metadata": {},
   "source": [
    "## Eliminer les stops words et ponctuations"
   ]
  },
  {
   "cell_type": "code",
   "execution_count": 1,
   "metadata": {
    "collapsed": true
   },
   "outputs": [
    {
     "ename": "NameError",
     "evalue": "name 'fr_stop_words' is not defined",
     "output_type": "error",
     "traceback": [
      "\u001b[1;31m---------------------------------------------------------------------------\u001b[0m",
      "\u001b[1;31mNameError\u001b[0m                                 Traceback (most recent call last)",
      "\u001b[1;32m<ipython-input-1-98aaf6827679>\u001b[0m in \u001b[0;36m<module>\u001b[1;34m\u001b[0m\n\u001b[1;32m----> 1\u001b[1;33m \u001b[1;32mfor\u001b[0m \u001b[0mstop_word\u001b[0m \u001b[1;32min\u001b[0m \u001b[0mfr_stop_words\u001b[0m\u001b[1;33m:\u001b[0m\u001b[1;33m\u001b[0m\u001b[1;33m\u001b[0m\u001b[0m\n\u001b[0m\u001b[0;32m      2\u001b[0m \u001b[1;33m\u001b[0m\u001b[0m\n\u001b[0;32m      3\u001b[0m     \u001b[0mregex_stopword\u001b[0m \u001b[1;33m=\u001b[0m \u001b[1;34mr\"\\b\"\u001b[0m \u001b[1;33m+\u001b[0m \u001b[0mstop_word\u001b[0m \u001b[1;33m+\u001b[0m \u001b[1;34mr\"\\b\"\u001b[0m\u001b[1;33m\u001b[0m\u001b[1;33m\u001b[0m\u001b[0m\n\u001b[0;32m      4\u001b[0m     \u001b[0mdf\u001b[0m\u001b[1;33m[\u001b[0m\u001b[1;34m'sentence'\u001b[0m\u001b[1;33m]\u001b[0m \u001b[1;33m=\u001b[0m \u001b[0mdf\u001b[0m\u001b[1;33m[\u001b[0m\u001b[1;34m'sentence'\u001b[0m\u001b[1;33m]\u001b[0m\u001b[1;33m.\u001b[0m\u001b[0mstr\u001b[0m\u001b[1;33m.\u001b[0m\u001b[0mreplace\u001b[0m\u001b[1;33m(\u001b[0m\u001b[0mregex_stopword\u001b[0m\u001b[1;33m,\u001b[0m \u001b[1;34m' '\u001b[0m\u001b[1;33m)\u001b[0m\u001b[1;33m\u001b[0m\u001b[1;33m\u001b[0m\u001b[0m\n\u001b[0;32m      5\u001b[0m     \u001b[0mdf\u001b[0m\u001b[1;33m[\u001b[0m\u001b[1;34m'sentence'\u001b[0m\u001b[1;33m]\u001b[0m \u001b[1;33m=\u001b[0m \u001b[0mdf\u001b[0m\u001b[1;33m[\u001b[0m\u001b[1;34m'sentence'\u001b[0m\u001b[1;33m]\u001b[0m\u001b[1;33m.\u001b[0m\u001b[0mapply\u001b[0m\u001b[1;33m(\u001b[0m\u001b[1;32mlambda\u001b[0m \u001b[0mx\u001b[0m\u001b[1;33m:\u001b[0m \u001b[0mx\u001b[0m\u001b[1;33m.\u001b[0m\u001b[0msplit\u001b[0m\u001b[1;33m(\u001b[0m\u001b[1;33m)\u001b[0m\u001b[1;33m)\u001b[0m\u001b[1;33m\u001b[0m\u001b[1;33m\u001b[0m\u001b[0m\n",
      "\u001b[1;31mNameError\u001b[0m: name 'fr_stop_words' is not defined"
     ]
    }
   ],
   "source": [
    "for stop_word in fr_stop_words:\n",
    "\n",
    "    regex_stopword = r\"\\b\" + stop_word + r\"\\b\"\n",
    "    df['sentence'] = df['sentence'].str.replace(regex_stopword, ' ')\n",
    "    df['sentence'] = df['sentence'].apply(lambda x: x.split())\n",
    "    df['sentence'] = df['sentence'].apply(lambda x: ' '.join([word for word in x]))"
   ]
  },
  {
   "cell_type": "code",
   "execution_count": 583,
   "metadata": {
    "collapsed": true
   },
   "outputs": [],
   "source": [
    "punctuation_signs = list(\"#{}()[|=+]:,;^~'_-%`@$¤£^¨*µù%!§/\")"
   ]
  },
  {
   "cell_type": "code",
   "execution_count": 584,
   "metadata": {},
   "outputs": [
    {
     "name": "stderr",
     "output_type": "stream",
     "text": [
      "<ipython-input-584-8013ab368956>:2: FutureWarning: The default value of regex will change from True to False in a future version. In addition, single character regular expressions will*not* be treated as literal strings when regex=True.\n",
      "  df['sentence'] = df['sentence'].str.replace(punct_sign, ' ')\n"
     ]
    }
   ],
   "source": [
    "for punct_sign in punctuation_signs:\n",
    "    df['sentence'] = df['sentence'].str.replace(punct_sign, ' ')"
   ]
  },
  {
   "cell_type": "markdown",
   "metadata": {},
   "source": [
    "## Eliminer les expressions de devises"
   ]
  },
  {
   "cell_type": "code",
   "execution_count": 585,
   "metadata": {
    "collapsed": true
   },
   "outputs": [],
   "source": [
    "df[\"sentence\"] = df[\"sentence\"].apply(lambda x: x.replace(\"sad\", \"\"))\n",
    "df[\"sentence\"] = df[\"sentence\"].apply(lambda x: x.replace(\"dhs\", \"\"))\n",
    "df[\"sentence\"] = df[\"sentence\"].apply(lambda x: x.replace(\"hs\", \"\"))\n",
    "df[\"sentence\"] = df[\"sentence\"].apply(lambda x: x.replace(\"dh\", \"\"))\n",
    "df[\"sentence\"] = df[\"sentence\"].apply(lambda x: x.replace(\"mad\", \"\"))\n",
    "df[\"sentence\"] = df[\"sentence\"].apply(lambda x: x.replace(\"dirhams\", \"\"))\n",
    "df[\"sentence\"] = df[\"sentence\"].apply(lambda x: x.replace(\"dirhams\", \"\"))"
   ]
  },
  {
   "cell_type": "markdown",
   "metadata": {},
   "source": [
    "## Supprimer certains mots indésirables"
   ]
  },
  {
   "cell_type": "code",
   "execution_count": 586,
   "metadata": {
    "collapsed": true
   },
   "outputs": [],
   "source": [
    "unwanted_words = ['sainter', 'chaquinter', 'esarl', 'inter', 'osall', 'sain', 'or', 'var', 'vices', 'assistance', 'oocentimes', 'stier'] "
   ]
  },
  {
   "cell_type": "code",
   "execution_count": 587,
   "metadata": {
    "collapsed": true
   },
   "outputs": [],
   "source": [
    "for word in unwanted_words:\n",
    "    df[\"sentence\"] = df[\"sentence\"].apply(lambda x: x.split())\n",
    "    df[\"sentence\"] = df[\"sentence\"].apply(lambda x: [e for e in x if e not in unwanted_words])\n",
    "    df[\"sentence\"] = df[\"sentence\"].apply(lambda x: [e for e in x if len(e)>=2])\n",
    "    df[\"sentence\"] = df[\"sentence\"].apply(lambda x: [e for e in x if not e.startswith(\".\")])\n",
    "    df[\"sentence\"] = df[\"sentence\"].apply(lambda x: \" \".join(x))"
   ]
  },
  {
   "cell_type": "markdown",
   "metadata": {},
   "source": [
    "## Détecter les nombres à partir des phrases"
   ]
  },
  {
   "cell_type": "code",
   "execution_count": 588,
   "metadata": {
    "collapsed": true
   },
   "outputs": [],
   "source": [
    "df[\"numerical_values\"] = df[\"sentence\"].apply(lambda x: x.split())\n",
    "df[\"numerical_values\"] = df[\"numerical_values\"].apply(lambda x: [e for e in x if any(char for char in e if char.isdigit())])\n",
    "df[\"numerical_values\"] = df[\"numerical_values\"].apply(lambda x: [e.translate({ord(i): None for i in letters}) for e in x])\n",
    "df[\"numerical_values\"] = df[\"numerical_values\"].apply(lambda x: [float(e) for e in x])\n",
    "df[\"numerical_values\"] = df[\"numerical_values\"].apply(lambda x: [e for e in x if e!=0])\n",
    "df[\"numerical_values\"] = df[\"numerical_values\"].apply(lambda x: [round(e,1) for e in x])"
   ]
  },
  {
   "cell_type": "code",
   "execution_count": 589,
   "metadata": {
    "collapsed": true
   },
   "outputs": [],
   "source": [
    "df[\"len_numerical_values\"] = df[\"numerical_values\"].apply(lambda x: len(x))"
   ]
  },
  {
   "cell_type": "code",
   "execution_count": 590,
   "metadata": {},
   "outputs": [
    {
     "data": {
      "text/plain": [
       "<AxesSubplot:ylabel='len_numerical_values'>"
      ]
     },
     "execution_count": 590,
     "metadata": {},
     "output_type": "execute_result"
    },
    {
     "data": {
      "image/png": "[encoded data removed]",
      "text/plain": [
       "<Figure size 432x288 with 1 Axes>"
      ]
     },
     "metadata": {},
     "output_type": "display_data"
    }
   ],
   "source": [
    "df[\"len_numerical_values\"].value_counts().plot.pie()"
   ]
  },
  {
   "cell_type": "markdown",
   "metadata": {},
   "source": [
    "## Recevoir l'indice du label dans la liste des nombres"
   ]
  },
  {
   "cell_type": "code",
   "execution_count": 591,
   "metadata": {
    "collapsed": true
   },
   "outputs": [],
   "source": [
    "indices = []\n",
    "for ligne in df[[\"numerical_values\", \"label\"]].itertuples():\n",
    "    try:\n",
    "        indices.append(ligne[1].index(ligne[2]))\n",
    "    except:\n",
    "        print(ligne)"
   ]
  },
  {
   "cell_type": "code",
   "execution_count": 592,
   "metadata": {
    "collapsed": true
   },
   "outputs": [],
   "source": [
    "df[\"label_index\"] = indices"
   ]
  },
  {
   "cell_type": "code",
   "execution_count": 563,
   "metadata": {
    "collapsed": true
   },
   "outputs": [],
   "source": [
    "df.to_excel(\"df.xlsx\", index=None)"
   ]
  },
  {
   "cell_type": "markdown",
   "metadata": {},
   "source": [
    "# Feature Engineering"
   ]
  },
  {
   "cell_type": "markdown",
   "metadata": {},
   "source": [
    "<p>Dans ce type de problème, Doc2Vec est la bonne solution pour gérer la similarité entre les textes.</p>"
   ]
  },
  {
   "cell_type": "code",
   "execution_count": 598,
   "metadata": {
    "collapsed": true
   },
   "outputs": [],
   "source": [
    "train_tagged = df.apply(lambda r: TaggedDocument(words=word_tokenize(r['sentence']), tags=[r.indice]), axis=1)"
   ]
  },
  {
   "cell_type": "code",
   "execution_count": 599,
   "metadata": {},
   "outputs": [
    {
     "name": "stdout",
     "output_type": "stream",
     "text": [
      "Wall time: 999 µs\n"
     ]
    }
   ],
   "source": [
    "vector_size=400\n",
    "%time model = Doc2Vec(vector_size=vector_size, epochs=400, dm=0, workers= multiprocessing.cpu_count())"
   ]
  },
  {
   "cell_type": "code",
   "execution_count": 600,
   "metadata": {},
   "outputs": [
    {
     "data": {
      "text/plain": [
       "0                                   ([ttc, 640.00], [0])\n",
       "1                          ([total, payee, 640.00], [1])\n",
       "2                                 ([total, 130.00], [2])\n",
       "3      ([total, 108.33, tva, 21.67, total, 130.00], [3])\n",
       "4                   ([total, facture, ttc, 350.00], [4])\n",
       "                             ...                        \n",
       "337                             ([total, 766.00], [337])\n",
       "338    ([total, 766.00, presente, facture, arreteeàla...\n",
       "339                            ([total, 1793.00], [339])\n",
       "340                            ([total, 1793.00], [340])\n",
       "341                 ([total, payee, 350.001, au], [341])\n",
       "Length: 342, dtype: object"
      ]
     },
     "execution_count": 600,
     "metadata": {},
     "output_type": "execute_result"
    }
   ],
   "source": [
    "train_tagged"
   ]
  },
  {
   "cell_type": "code",
   "execution_count": 601,
   "metadata": {
    "collapsed": true
   },
   "outputs": [],
   "source": [
    "model.build_vocab(train_tagged, progress_per=500)"
   ]
  },
  {
   "cell_type": "code",
   "execution_count": 602,
   "metadata": {},
   "outputs": [
    {
     "name": "stdout",
     "output_type": "stream",
     "text": [
      "Wall time: 4.04 s\n"
     ]
    }
   ],
   "source": [
    "%time model.train(train_tagged, total_examples=model.corpus_count, epochs=model.epochs)"
   ]
  },
  {
   "cell_type": "code",
   "execution_count": 603,
   "metadata": {
    "collapsed": true
   },
   "outputs": [],
   "source": [
    "model.save(\"doc2vecRound1.model\")"
   ]
  },
  {
   "cell_type": "code",
   "execution_count": 604,
   "metadata": {
    "collapsed": true
   },
   "outputs": [],
   "source": [
    "df[\"vectors\"] = df.apply(lambda x: model.infer_vector(word_tokenize(x['sentence'].replace(';', ''))), axis=1)"
   ]
  },
  {
   "cell_type": "code",
   "execution_count": 606,
   "metadata": {
    "collapsed": true
   },
   "outputs": [],
   "source": [
    "def generateColNames():\n",
    "    arr = []\n",
    "    for i in range(vector_size):\n",
    "        arr.append(\"keyword\" + str(i+1))\n",
    "    return arr"
   ]
  },
  {
   "cell_type": "code",
   "execution_count": 607,
   "metadata": {
    "collapsed": true
   },
   "outputs": [],
   "source": [
    "newCols = generateColNames()"
   ]
  },
  {
   "cell_type": "code",
   "execution_count": 609,
   "metadata": {
    "collapsed": true
   },
   "outputs": [],
   "source": [
    "df[newCols] = pd.DataFrame(df.vectors.values.tolist(), index=df.index)"
   ]
  },
  {
   "cell_type": "markdown",
   "metadata": {},
   "source": [
    "# Construction du Modèle"
   ]
  },
  {
   "cell_type": "code",
   "execution_count": 617,
   "metadata": {
    "collapsed": true
   },
   "outputs": [],
   "source": [
    "keyword1Start = 7\n",
    "dataframeX = pd.concat([df.iloc[:,keyword1Start:vector_size+keyword1Start], df[\"len_numerical_values\"]], axis=1)\n",
    "dataframeY = df[['label_index']]"
   ]
  },
  {
   "cell_type": "code",
   "execution_count": 618,
   "metadata": {},
   "outputs": [
    {
     "data": {
      "text/html": [
       "<div>\n",
       "<style scoped>\n",
       "    .dataframe tbody tr th:only-of-type {\n",
       "        vertical-align: middle;\n",
       "    }\n",
       "\n",
       "    .dataframe tbody tr th {\n",
       "        vertical-align: top;\n",
       "    }\n",
       "\n",
       "    .dataframe thead th {\n",
       "        text-align: right;\n",
       "    }\n",
       "</style>\n",
       "<table border=\"1\" class=\"dataframe\">\n",
       "  <thead>\n",
       "    <tr style=\"text-align: right;\">\n",
       "      <th></th>\n",
       "      <th>keyword1</th>\n",
       "      <th>keyword2</th>\n",
       "      <th>keyword3</th>\n",
       "      <th>keyword4</th>\n",
       "      <th>keyword5</th>\n",
       "      <th>keyword6</th>\n",
       "      <th>keyword7</th>\n",
       "      <th>keyword8</th>\n",
       "      <th>keyword9</th>\n",
       "      <th>keyword10</th>\n",
       "      <th>...</th>\n",
       "      <th>keyword392</th>\n",
       "      <th>keyword393</th>\n",
       "      <th>keyword394</th>\n",
       "      <th>keyword395</th>\n",
       "      <th>keyword396</th>\n",
       "      <th>keyword397</th>\n",
       "      <th>keyword398</th>\n",
       "      <th>keyword399</th>\n",
       "      <th>keyword400</th>\n",
       "      <th>len_numerical_values</th>\n",
       "    </tr>\n",
       "  </thead>\n",
       "  <tbody>\n",
       "    <tr>\n",
       "      <th>0</th>\n",
       "      <td>-0.012178</td>\n",
       "      <td>-0.016566</td>\n",
       "      <td>0.070371</td>\n",
       "      <td>0.025749</td>\n",
       "      <td>-0.127844</td>\n",
       "      <td>-0.037545</td>\n",
       "      <td>0.016650</td>\n",
       "      <td>-0.028058</td>\n",
       "      <td>0.049474</td>\n",
       "      <td>-0.009747</td>\n",
       "      <td>...</td>\n",
       "      <td>0.131830</td>\n",
       "      <td>-0.009035</td>\n",
       "      <td>0.097121</td>\n",
       "      <td>-0.042735</td>\n",
       "      <td>0.069323</td>\n",
       "      <td>0.028137</td>\n",
       "      <td>0.022252</td>\n",
       "      <td>-0.029944</td>\n",
       "      <td>-0.017005</td>\n",
       "      <td>1</td>\n",
       "    </tr>\n",
       "    <tr>\n",
       "      <th>1</th>\n",
       "      <td>-0.127614</td>\n",
       "      <td>-0.062268</td>\n",
       "      <td>-0.108852</td>\n",
       "      <td>-0.028547</td>\n",
       "      <td>-0.130495</td>\n",
       "      <td>0.083932</td>\n",
       "      <td>0.096340</td>\n",
       "      <td>0.120887</td>\n",
       "      <td>0.055749</td>\n",
       "      <td>0.154820</td>\n",
       "      <td>...</td>\n",
       "      <td>0.199665</td>\n",
       "      <td>-0.152702</td>\n",
       "      <td>0.035686</td>\n",
       "      <td>0.073426</td>\n",
       "      <td>-0.076873</td>\n",
       "      <td>0.033804</td>\n",
       "      <td>-0.037433</td>\n",
       "      <td>-0.012025</td>\n",
       "      <td>0.234372</td>\n",
       "      <td>1</td>\n",
       "    </tr>\n",
       "    <tr>\n",
       "      <th>2</th>\n",
       "      <td>0.068150</td>\n",
       "      <td>-0.021559</td>\n",
       "      <td>0.034124</td>\n",
       "      <td>0.057887</td>\n",
       "      <td>-0.116551</td>\n",
       "      <td>0.008654</td>\n",
       "      <td>0.135784</td>\n",
       "      <td>-0.073897</td>\n",
       "      <td>0.046805</td>\n",
       "      <td>0.040170</td>\n",
       "      <td>...</td>\n",
       "      <td>0.073665</td>\n",
       "      <td>-0.053448</td>\n",
       "      <td>-0.019835</td>\n",
       "      <td>0.034985</td>\n",
       "      <td>0.066460</td>\n",
       "      <td>-0.068105</td>\n",
       "      <td>-0.025021</td>\n",
       "      <td>-0.016434</td>\n",
       "      <td>0.099741</td>\n",
       "      <td>1</td>\n",
       "    </tr>\n",
       "    <tr>\n",
       "      <th>3</th>\n",
       "      <td>0.039365</td>\n",
       "      <td>-0.046083</td>\n",
       "      <td>0.078141</td>\n",
       "      <td>0.156630</td>\n",
       "      <td>-0.187239</td>\n",
       "      <td>0.006378</td>\n",
       "      <td>0.216570</td>\n",
       "      <td>-0.175401</td>\n",
       "      <td>0.053433</td>\n",
       "      <td>-0.003577</td>\n",
       "      <td>...</td>\n",
       "      <td>0.075779</td>\n",
       "      <td>-0.079899</td>\n",
       "      <td>0.064679</td>\n",
       "      <td>0.065368</td>\n",
       "      <td>0.002453</td>\n",
       "      <td>-0.116253</td>\n",
       "      <td>-0.047489</td>\n",
       "      <td>0.010544</td>\n",
       "      <td>0.151737</td>\n",
       "      <td>3</td>\n",
       "    </tr>\n",
       "    <tr>\n",
       "      <th>4</th>\n",
       "      <td>0.029468</td>\n",
       "      <td>-0.103314</td>\n",
       "      <td>-0.026429</td>\n",
       "      <td>0.041979</td>\n",
       "      <td>-0.106992</td>\n",
       "      <td>0.010816</td>\n",
       "      <td>-0.024951</td>\n",
       "      <td>0.044401</td>\n",
       "      <td>0.054669</td>\n",
       "      <td>-0.019388</td>\n",
       "      <td>...</td>\n",
       "      <td>0.071595</td>\n",
       "      <td>-0.005007</td>\n",
       "      <td>0.126821</td>\n",
       "      <td>-0.014555</td>\n",
       "      <td>-0.023144</td>\n",
       "      <td>0.075396</td>\n",
       "      <td>0.027719</td>\n",
       "      <td>-0.033610</td>\n",
       "      <td>0.053723</td>\n",
       "      <td>1</td>\n",
       "    </tr>\n",
       "    <tr>\n",
       "      <th>...</th>\n",
       "      <td>...</td>\n",
       "      <td>...</td>\n",
       "      <td>...</td>\n",
       "      <td>...</td>\n",
       "      <td>...</td>\n",
       "      <td>...</td>\n",
       "      <td>...</td>\n",
       "      <td>...</td>\n",
       "      <td>...</td>\n",
       "      <td>...</td>\n",
       "      <td>...</td>\n",
       "      <td>...</td>\n",
       "      <td>...</td>\n",
       "      <td>...</td>\n",
       "      <td>...</td>\n",
       "      <td>...</td>\n",
       "      <td>...</td>\n",
       "      <td>...</td>\n",
       "      <td>...</td>\n",
       "      <td>...</td>\n",
       "      <td>...</td>\n",
       "    </tr>\n",
       "    <tr>\n",
       "      <th>337</th>\n",
       "      <td>0.006672</td>\n",
       "      <td>-0.048118</td>\n",
       "      <td>-0.018325</td>\n",
       "      <td>-0.011271</td>\n",
       "      <td>-0.063012</td>\n",
       "      <td>0.018679</td>\n",
       "      <td>0.016459</td>\n",
       "      <td>-0.012571</td>\n",
       "      <td>0.035777</td>\n",
       "      <td>0.025477</td>\n",
       "      <td>...</td>\n",
       "      <td>0.068834</td>\n",
       "      <td>0.000228</td>\n",
       "      <td>0.049831</td>\n",
       "      <td>-0.011149</td>\n",
       "      <td>0.001262</td>\n",
       "      <td>0.047560</td>\n",
       "      <td>0.004263</td>\n",
       "      <td>-0.009345</td>\n",
       "      <td>0.050632</td>\n",
       "      <td>1</td>\n",
       "    </tr>\n",
       "    <tr>\n",
       "      <th>338</th>\n",
       "      <td>-0.107939</td>\n",
       "      <td>-0.016066</td>\n",
       "      <td>-0.017981</td>\n",
       "      <td>-0.053964</td>\n",
       "      <td>-0.180667</td>\n",
       "      <td>0.077547</td>\n",
       "      <td>0.083659</td>\n",
       "      <td>0.084128</td>\n",
       "      <td>0.193576</td>\n",
       "      <td>0.270135</td>\n",
       "      <td>...</td>\n",
       "      <td>0.032975</td>\n",
       "      <td>-0.015365</td>\n",
       "      <td>-0.035978</td>\n",
       "      <td>-0.013376</td>\n",
       "      <td>-0.073866</td>\n",
       "      <td>0.243604</td>\n",
       "      <td>-0.002532</td>\n",
       "      <td>-0.092293</td>\n",
       "      <td>0.071059</td>\n",
       "      <td>1</td>\n",
       "    </tr>\n",
       "    <tr>\n",
       "      <th>339</th>\n",
       "      <td>-0.000900</td>\n",
       "      <td>-0.048699</td>\n",
       "      <td>-0.033356</td>\n",
       "      <td>-0.014273</td>\n",
       "      <td>-0.054047</td>\n",
       "      <td>0.022247</td>\n",
       "      <td>0.018603</td>\n",
       "      <td>-0.005363</td>\n",
       "      <td>0.046693</td>\n",
       "      <td>0.037112</td>\n",
       "      <td>...</td>\n",
       "      <td>0.059097</td>\n",
       "      <td>0.006140</td>\n",
       "      <td>0.043665</td>\n",
       "      <td>-0.014065</td>\n",
       "      <td>-0.006289</td>\n",
       "      <td>0.051542</td>\n",
       "      <td>0.007814</td>\n",
       "      <td>-0.006947</td>\n",
       "      <td>0.056965</td>\n",
       "      <td>1</td>\n",
       "    </tr>\n",
       "    <tr>\n",
       "      <th>340</th>\n",
       "      <td>-0.008200</td>\n",
       "      <td>-0.066950</td>\n",
       "      <td>-0.037551</td>\n",
       "      <td>-0.021936</td>\n",
       "      <td>-0.068845</td>\n",
       "      <td>0.028569</td>\n",
       "      <td>0.027067</td>\n",
       "      <td>-0.011528</td>\n",
       "      <td>0.049866</td>\n",
       "      <td>0.040304</td>\n",
       "      <td>...</td>\n",
       "      <td>0.075886</td>\n",
       "      <td>0.003865</td>\n",
       "      <td>0.052152</td>\n",
       "      <td>-0.021925</td>\n",
       "      <td>-0.003019</td>\n",
       "      <td>0.049743</td>\n",
       "      <td>0.001419</td>\n",
       "      <td>-0.004308</td>\n",
       "      <td>0.065485</td>\n",
       "      <td>1</td>\n",
       "    </tr>\n",
       "    <tr>\n",
       "      <th>341</th>\n",
       "      <td>-0.118028</td>\n",
       "      <td>-0.067071</td>\n",
       "      <td>-0.112456</td>\n",
       "      <td>-0.034407</td>\n",
       "      <td>-0.120170</td>\n",
       "      <td>0.081384</td>\n",
       "      <td>0.084857</td>\n",
       "      <td>0.110217</td>\n",
       "      <td>0.054812</td>\n",
       "      <td>0.137536</td>\n",
       "      <td>...</td>\n",
       "      <td>0.194795</td>\n",
       "      <td>-0.141262</td>\n",
       "      <td>0.038109</td>\n",
       "      <td>0.064883</td>\n",
       "      <td>-0.070360</td>\n",
       "      <td>0.031832</td>\n",
       "      <td>-0.039606</td>\n",
       "      <td>-0.009525</td>\n",
       "      <td>0.227561</td>\n",
       "      <td>1</td>\n",
       "    </tr>\n",
       "  </tbody>\n",
       "</table>\n",
       "<p>342 rows × 401 columns</p>\n",
       "</div>"
      ],
      "text/plain": [
       "     keyword1  keyword2  keyword3  keyword4  keyword5  keyword6  keyword7  \\\n",
       "0   -0.012178 -0.016566  0.070371  0.025749 -0.127844 -0.037545  0.016650   \n",
       "1   -0.127614 -0.062268 -0.108852 -0.028547 -0.130495  0.083932  0.096340   \n",
       "2    0.068150 -0.021559  0.034124  0.057887 -0.116551  0.008654  0.135784   \n",
       "3    0.039365 -0.046083  0.078141  0.156630 -0.187239  0.006378  0.216570   \n",
       "4    0.029468 -0.103314 -0.026429  0.041979 -0.106992  0.010816 -0.024951   \n",
       "..        ...       ...       ...       ...       ...       ...       ...   \n",
       "337  0.006672 -0.048118 -0.018325 -0.011271 -0.063012  0.018679  0.016459   \n",
       "338 -0.107939 -0.016066 -0.017981 -0.053964 -0.180667  0.077547  0.083659   \n",
       "339 -0.000900 -0.048699 -0.033356 -0.014273 -0.054047  0.022247  0.018603   \n",
       "340 -0.008200 -0.066950 -0.037551 -0.021936 -0.068845  0.028569  0.027067   \n",
       "341 -0.118028 -0.067071 -0.112456 -0.034407 -0.120170  0.081384  0.084857   \n",
       "\n",
       "     keyword8  keyword9  keyword10  ...  keyword392  keyword393  keyword394  \\\n",
       "0   -0.028058  0.049474  -0.009747  ...    0.131830   -0.009035    0.097121   \n",
       "1    0.120887  0.055749   0.154820  ...    0.199665   -0.152702    0.035686   \n",
       "2   -0.073897  0.046805   0.040170  ...    0.073665   -0.053448   -0.019835   \n",
       "3   -0.175401  0.053433  -0.003577  ...    0.075779   -0.079899    0.064679   \n",
       "4    0.044401  0.054669  -0.019388  ...    0.071595   -0.005007    0.126821   \n",
       "..        ...       ...        ...  ...         ...         ...         ...   \n",
       "337 -0.012571  0.035777   0.025477  ...    0.068834    0.000228    0.049831   \n",
       "338  0.084128  0.193576   0.270135  ...    0.032975   -0.015365   -0.035978   \n",
       "339 -0.005363  0.046693   0.037112  ...    0.059097    0.006140    0.043665   \n",
       "340 -0.011528  0.049866   0.040304  ...    0.075886    0.003865    0.052152   \n",
       "341  0.110217  0.054812   0.137536  ...    0.194795   -0.141262    0.038109   \n",
       "\n",
       "     keyword395  keyword396  keyword397  keyword398  keyword399  keyword400  \\\n",
       "0     -0.042735    0.069323    0.028137    0.022252   -0.029944   -0.017005   \n",
       "1      0.073426   -0.076873    0.033804   -0.037433   -0.012025    0.234372   \n",
       "2      0.034985    0.066460   -0.068105   -0.025021   -0.016434    0.099741   \n",
       "3      0.065368    0.002453   -0.116253   -0.047489    0.010544    0.151737   \n",
       "4     -0.014555   -0.023144    0.075396    0.027719   -0.033610    0.053723   \n",
       "..          ...         ...         ...         ...         ...         ...   \n",
       "337   -0.011149    0.001262    0.047560    0.004263   -0.009345    0.050632   \n",
       "338   -0.013376   -0.073866    0.243604   -0.002532   -0.092293    0.071059   \n",
       "339   -0.014065   -0.006289    0.051542    0.007814   -0.006947    0.056965   \n",
       "340   -0.021925   -0.003019    0.049743    0.001419   -0.004308    0.065485   \n",
       "341    0.064883   -0.070360    0.031832   -0.039606   -0.009525    0.227561   \n",
       "\n",
       "     len_numerical_values  \n",
       "0                       1  \n",
       "1                       1  \n",
       "2                       1  \n",
       "3                       3  \n",
       "4                       1  \n",
       "..                    ...  \n",
       "337                     1  \n",
       "338                     1  \n",
       "339                     1  \n",
       "340                     1  \n",
       "341                     1  \n",
       "\n",
       "[342 rows x 401 columns]"
      ]
     },
     "execution_count": 618,
     "metadata": {},
     "output_type": "execute_result"
    }
   ],
   "source": [
    "dataframeX"
   ]
  },
  {
   "cell_type": "code",
   "execution_count": 623,
   "metadata": {
    "collapsed": true
   },
   "outputs": [],
   "source": [
    "j = 0\n",
    "trainX, testX, trainY, testY = train_test_split(dataframeX, dataframeY, test_size=0.20, random_state=j, stratify=dataframeY)"
   ]
  },
  {
   "cell_type": "code",
   "execution_count": 624,
   "metadata": {
    "collapsed": true
   },
   "outputs": [],
   "source": [
    "model = xgb.XGBClassifier()"
   ]
  },
  {
   "cell_type": "code",
   "execution_count": 625,
   "metadata": {},
   "outputs": [
    {
     "name": "stderr",
     "output_type": "stream",
     "text": [
      "C:\\Users\\othmane_fathallah\\anaconda3\\lib\\site-packages\\xgboost\\sklearn.py:1146: UserWarning: The use of label encoder in XGBClassifier is deprecated and will be removed in a future release. To remove this warning, do the following: 1) Pass option use_label_encoder=False when constructing XGBClassifier object; and 2) Encode your labels (y) as integers starting with 0, i.e. 0, 1, 2, ..., [num_class - 1].\n",
      "  warnings.warn(label_encoder_deprecation_msg, UserWarning)\n",
      "C:\\Users\\othmane_fathallah\\anaconda3\\lib\\site-packages\\sklearn\\utils\\validation.py:63: DataConversionWarning: A column-vector y was passed when a 1d array was expected. Please change the shape of y to (n_samples, ), for example using ravel().\n",
      "  return f(*args, **kwargs)\n"
     ]
    },
    {
     "name": "stdout",
     "output_type": "stream",
     "text": [
      "[03:16:13] WARNING: C:/Users/Administrator/workspace/xgboost-win64_release_1.4.0/src/learner.cc:1095: Starting in XGBoost 1.3.0, the default evaluation metric used with the objective 'multi:softprob' was changed from 'merror' to 'mlogloss'. Explicitly set eval_metric if you'd like to restore the old behavior.\n"
     ]
    },
    {
     "data": {
      "text/plain": [
       "XGBClassifier(base_score=0.5, booster='gbtree', colsample_bylevel=1,\n",
       "              colsample_bynode=1, colsample_bytree=1, gamma=0, gpu_id=-1,\n",
       "              importance_type='gain', interaction_constraints='',\n",
       "              learning_rate=0.300000012, max_delta_step=0, max_depth=6,\n",
       "              min_child_weight=1, missing=nan, monotone_constraints='()',\n",
       "              n_estimators=100, n_jobs=8, num_parallel_tree=1,\n",
       "              objective='multi:softprob', random_state=0, reg_alpha=0,\n",
       "              reg_lambda=1, scale_pos_weight=None, subsample=1,\n",
       "              tree_method='exact', validate_parameters=1, verbosity=None)"
      ]
     },
     "execution_count": 625,
     "metadata": {},
     "output_type": "execute_result"
    }
   ],
   "source": [
    "model.fit(trainX, trainY)"
   ]
  },
  {
   "cell_type": "code",
   "execution_count": 628,
   "metadata": {
    "collapsed": true
   },
   "outputs": [],
   "source": [
    "y_pred = model.predict(testX)\n",
    "predictions = [round(value) for value in y_pred]"
   ]
  },
  {
   "cell_type": "code",
   "execution_count": 634,
   "metadata": {
    "collapsed": true
   },
   "outputs": [],
   "source": [
    "predDF = pd.DataFrame()\n",
    "predDF[\"predictions\"] = predictions"
   ]
  },
  {
   "cell_type": "code",
   "execution_count": 630,
   "metadata": {},
   "outputs": [
    {
     "name": "stdout",
     "output_type": "stream",
     "text": [
      "Accuracy: 98.55%\n"
     ]
    }
   ],
   "source": [
    "accuracy = accuracy_score(testY, predictions)\n",
    "print(\"Accuracy: %.2f%%\" % (accuracy * 100.0))"
   ]
  },
  {
   "cell_type": "code",
   "execution_count": 641,
   "metadata": {
    "collapsed": true
   },
   "outputs": [],
   "source": [
    "testResults = pd.concat([df.iloc[testX.index].reset_index(drop=True), predDF], axis=1)"
   ]
  },
  {
   "cell_type": "code",
   "execution_count": 642,
   "metadata": {
    "collapsed": true
   },
   "outputs": [],
   "source": [
    "isEqual = np.where(testResults[\"label_index\"]==testResults[\"predictions\"], True, False)\n",
    "testResults[\"isEqual\"] = isEqual"
   ]
  },
  {
   "cell_type": "code",
   "execution_count": 646,
   "metadata": {
    "collapsed": true
   },
   "outputs": [],
   "source": [
    "testResults = testResults[['indice', 'sentence', 'label', 'numerical_values',\n",
    "       'len_numerical_values', 'label_index', 'predictions', 'isEqual']]"
   ]
  },
  {
   "cell_type": "code",
   "execution_count": 647,
   "metadata": {},
   "outputs": [
    {
     "data": {
      "text/plain": [
       "Index(['indice', 'sentence', 'label', 'numerical_values',\n",
       "       'len_numerical_values', 'label_index', 'predictions', 'isEqual'],\n",
       "      dtype='object')"
      ]
     },
     "execution_count": 647,
     "metadata": {},
     "output_type": "execute_result"
    }
   ],
   "source": [
    "testResults.columns"
   ]
  },
  {
   "cell_type": "code",
   "execution_count": 648,
   "metadata": {
    "collapsed": true
   },
   "outputs": [],
   "source": [
    "testResults.to_excel(\"testResults.xlsx\", index=None)"
   ]
  },
  {
   "cell_type": "code",
   "execution_count": 651,
   "metadata": {
    "collapsed": true
   },
   "outputs": [],
   "source": [
    "pickle.dump(model, open(\"XGBoost Model.pkl\", \"wb\"))"
   ]
  },
  {
   "cell_type": "code",
   "execution_count": null,
   "metadata": {
    "collapsed": true
   },
   "outputs": [],
   "source": []
  }
 ],
 "metadata": {
  "kernelspec": {
   "display_name": "Python 3",
   "language": "python",
   "name": "python3"
  },
  "language_info": {
   "codemirror_mode": {
    "name": "ipython",
    "version": 3
   },
   "file_extension": ".py",
   "mimetype": "text/x-python",
   "name": "python",
   "nbconvert_exporter": "python",
   "pygments_lexer": "ipython3",
   "version": "3.6.3"
  }
 },
 "nbformat": 4,
 "nbformat_minor": 5
}
