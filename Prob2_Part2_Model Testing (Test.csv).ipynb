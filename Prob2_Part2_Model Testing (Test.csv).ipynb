{
 "cells": [
  {
   "cell_type": "markdown",
   "metadata": {},
   "source": [
    "#Data Science test\n",
    "\n",
    "Ce document décrit la deuxième partie de la solution du deuxième problème listé dans les documents \"test.pdf\", le cahier est divisé en plusieurs parties :\n",
    "\n",
    "   * Problèmes 2 : Extraction d'informations basée sur des données non structurées, dans ce cas, les informations à extraire sont les valeurs de TTC.\n",
    "\n"
   ]
  },
  {
   "cell_type": "code",
   "execution_count": 1,
   "metadata": {},
   "outputs": [
    {
     "name": "stderr",
     "output_type": "stream",
     "text": [
      "C:\\Users\\othmane_fathallah\\anaconda3\\lib\\site-packages\\gensim\\similarities\\__init__.py:15: UserWarning: The gensim.similarities.levenshtein submodule is disabled, because the optional Levenshtein package <https://pypi.org/project/python-Levenshtein/> is unavailable. Install Levenhstein (e.g. `pip install python-Levenshtein`) to suppress this warning.\n",
      "  warnings.warn(msg)\n"
     ]
    }
   ],
   "source": [
    "import pandas as pd\n",
    "import numpy as np\n",
    "import spacy\n",
    "import gensim\n",
    "import nltk\n",
    "from nltk.corpus import stopwords, wordnet\n",
    "from nltk.tokenize import word_tokenize\n",
    "from nltk.stem import WordNetLemmatizer\n",
    "import gensim\n",
    "from gensim.models.doc2vec import Doc2Vec, TaggedDocument\n",
    "import translate\n",
    "import multiprocessing\n",
    "import xgboost as xgb\n",
    "import sklearn\n",
    "from sklearn.utils import shuffle\n",
    "from sklearn.model_selection import train_test_split\n",
    "from sklearn.metrics import confusion_matrix, classification_report\n",
    "from sklearn.metrics import accuracy_score\n",
    "import pickle"
   ]
  },
  {
   "cell_type": "code",
   "execution_count": 2,
   "metadata": {
    "collapsed": true
   },
   "outputs": [],
   "source": [
    "fr_stop_words = [\n",
    " 'à'\n",
    " 'au',\n",
    " 'aux',\n",
    " 'avec',\n",
    " 'ce',\n",
    " 'ces',\n",
    " 'dans',\n",
    " 'sous',\n",
    " 'de',\n",
    " 'des',\n",
    " 'du',\n",
    " 'elle',\n",
    " 'en',\n",
    " 'et',\n",
    " 'eux',\n",
    " 'il',\n",
    " 'ils',\n",
    " 'je',\n",
    " 'la',\n",
    " 'le',\n",
    " 'les',\n",
    " 'leur',\n",
    " 'lui',\n",
    " 'ma',\n",
    " 'mais',\n",
    " 'me',\n",
    " 'même',\n",
    " 'mes',\n",
    " 'moi',\n",
    " 'mon',\n",
    " 'ne',\n",
    " 'nos',\n",
    " 'notre',\n",
    " 'nous',\n",
    " 'on',\n",
    " 'ou',\n",
    " 'par',\n",
    " 'pas',\n",
    " 'pour',\n",
    " 'qu',\n",
    " 'que',\n",
    " 'qui',\n",
    " 'sa',\n",
    " 'se',\n",
    " 'ses',\n",
    " 'son',\n",
    " 'sur',\n",
    " 'ta',\n",
    " 'te',\n",
    " 'tes',\n",
    " 'toi',\n",
    " 'ton',\n",
    " 'tu',\n",
    " 'un',\n",
    " 'une',\n",
    " 'vos',\n",
    " 'votre',\n",
    " 'vous',\n",
    " 'été',\n",
    " 'étée',\n",
    " 'étées',\n",
    " 'étés',\n",
    " 'étant',\n",
    " 'étante',\n",
    " 'étants',\n",
    " 'étantes',\n",
    " 'suis',\n",
    " 'es',\n",
    " 'est',\n",
    " 'sommes',\n",
    " 'êtes',\n",
    " 'sont',\n",
    " 'serai',\n",
    " 'seras',\n",
    " 'sera',\n",
    " 'serons',\n",
    " 'serez',\n",
    " 'seront',\n",
    " 'serais',\n",
    " 'serait',\n",
    " 'serions',\n",
    " 'seriez',\n",
    " 'seraient',\n",
    " 'étais',\n",
    " 'était',\n",
    " 'étions',\n",
    " 'étiez',\n",
    " 'étaient',\n",
    " 'fus',\n",
    " 'fut',\n",
    " 'fûmes',\n",
    " 'fûtes',\n",
    " 'furent',\n",
    " 'sois',\n",
    " 'soit',\n",
    " 'soyons',\n",
    " 'soyez',\n",
    " 'soient',\n",
    " 'fusse',\n",
    " 'fusses',\n",
    " 'fût',\n",
    " 'fussions',\n",
    " 'fussiez',\n",
    " 'fussent',\n",
    " 'ayant',\n",
    " 'ayante',\n",
    " 'ayantes',\n",
    " 'ayants',\n",
    " 'eu',\n",
    " 'eue',\n",
    " 'eues',\n",
    " 'eus',\n",
    " 'ai',\n",
    " 'as',\n",
    " 'avons',\n",
    " 'avez',\n",
    " 'ont',\n",
    " 'aurai',\n",
    " 'auras',\n",
    " 'aura',\n",
    " 'aurons',\n",
    " 'aurez',\n",
    " 'auront',\n",
    " 'aurais',\n",
    " 'aurait',\n",
    " 'aurions',\n",
    " 'auriez',\n",
    " 'auraient',\n",
    " 'avais',\n",
    " 'avait',\n",
    " 'avions',\n",
    " 'aviez',\n",
    " 'avaient',\n",
    " 'eut',\n",
    " 'eûmes',\n",
    " 'eûtes',\n",
    " 'eurent',\n",
    " 'aie',\n",
    " 'aies',\n",
    " 'ait',\n",
    " 'ayons',\n",
    " 'ayez',\n",
    " 'aient',\n",
    " 'eusse',\n",
    " 'eusses',\n",
    " 'eût',\n",
    " 'eussions',\n",
    " 'eussiez',\n",
    " 'eussent'\n",
    "]"
   ]
  },
  {
   "cell_type": "code",
   "execution_count": 3,
   "metadata": {
    "collapsed": true
   },
   "outputs": [],
   "source": [
    "letters = 'abcdefghijklmnopqrstuvwxyz'"
   ]
  },
  {
   "cell_type": "code",
   "execution_count": 6,
   "metadata": {
    "collapsed": true
   },
   "outputs": [],
   "source": [
    "df = pd.read_csv(\"test.csv\", sep=\",\")"
   ]
  },
  {
   "cell_type": "code",
   "execution_count": 7,
   "metadata": {
    "collapsed": true
   },
   "outputs": [],
   "source": [
    "df[\"label\"] = df[\"label\"].apply(lambda x: x.replace(\",\", \".\"))\n",
    "df[\"label\"] = df[\"label\"].astype(float)\n",
    "df[\"label\"] = df[\"label\"].apply(lambda x: round(x,1))"
   ]
  },
  {
   "cell_type": "code",
   "execution_count": 8,
   "metadata": {
    "collapsed": true
   },
   "outputs": [],
   "source": [
    "df = df[df['sentence'].notnull()]\n",
    "df['sentence'] = df['sentence'].astype(str)\n",
    "df[\"sentence\"] = df[\"sentence\"].str.lower()"
   ]
  },
  {
   "cell_type": "code",
   "execution_count": 10,
   "metadata": {
    "collapsed": true
   },
   "outputs": [],
   "source": [
    "df[\"sentence\"] = df[\"sentence\"].apply(lambda x: x.rstrip())\n",
    "df[\"sentence\"] = df[\"sentence\"].apply(lambda x: x.lstrip())\n",
    "df[\"sentence\"] = df[\"sentence\"].apply(lambda x: x.lstrip(\"0.00\"))"
   ]
  },
  {
   "cell_type": "code",
   "execution_count": 11,
   "metadata": {},
   "outputs": [
    {
     "name": "stderr",
     "output_type": "stream",
     "text": [
      "<ipython-input-11-a42371fb443e>:1: FutureWarning: The default value of regex will change from True to False in a future version.\n",
      "  df['sentence'] = df['sentence'].str.replace(\"h.t\", 'ht')\n",
      "<ipython-input-11-a42371fb443e>:2: FutureWarning: The default value of regex will change from True to False in a future version.\n",
      "  df['sentence'] = df['sentence'].str.replace(\"t.t.c\", 'ttc')\n",
      "<ipython-input-11-a42371fb443e>:3: FutureWarning: The default value of regex will change from True to False in a future version.\n",
      "  df['sentence'] = df['sentence'].str.replace(\"t.v.a\", 'tva')\n"
     ]
    }
   ],
   "source": [
    "df['sentence'] = df['sentence'].str.replace(\"h.t\", 'ht')\n",
    "df['sentence'] = df['sentence'].str.replace(\"t.t.c\", 'ttc')\n",
    "df['sentence'] = df['sentence'].str.replace(\"t.v.a\", 'tva')"
   ]
  },
  {
   "cell_type": "code",
   "execution_count": 12,
   "metadata": {
    "collapsed": true
   },
   "outputs": [],
   "source": [
    "df[\"sentence\"] = df[\"sentence\"].apply(lambda x: x.replace(\",\" ,\".\"))"
   ]
  },
  {
   "cell_type": "code",
   "execution_count": 13,
   "metadata": {},
   "outputs": [
    {
     "name": "stderr",
     "output_type": "stream",
     "text": [
      "<ipython-input-13-34cd51738a98>:1: FutureWarning: The default value of regex will change from True to False in a future version.\n",
      "  df['sentence'] = df['sentence'].str.replace(r\"\\b\" + \"va\" + r\"\\b\", 'tva')\n",
      "<ipython-input-13-34cd51738a98>:2: FutureWarning: The default value of regex will change from True to False in a future version.\n",
      "  df['sentence'] = df['sentence'].str.replace(r\"\\b\" + \"cotal\" + r\"\\b\", 'total')\n",
      "<ipython-input-13-34cd51738a98>:3: FutureWarning: The default value of regex will change from True to False in a future version.\n",
      "  df['sentence'] = df['sentence'].str.replace(r\"\\b\" + \"soustotal\" + r\"\\b\", 'sous total')\n"
     ]
    }
   ],
   "source": [
    "df['sentence'] = df['sentence'].str.replace(r\"\\b\" + \"va\" + r\"\\b\", 'tva')\n",
    "df['sentence'] = df['sentence'].str.replace(r\"\\b\" + \"cotal\" + r\"\\b\", 'total')\n",
    "df['sentence'] = df['sentence'].str.replace(r\"\\b\" + \"soustotal\" + r\"\\b\", 'sous total')"
   ]
  },
  {
   "cell_type": "code",
   "execution_count": 14,
   "metadata": {
    "collapsed": true
   },
   "outputs": [],
   "source": [
    "fr_accent = list(\"éèàêç\")"
   ]
  },
  {
   "cell_type": "code",
   "execution_count": 15,
   "metadata": {
    "collapsed": true
   },
   "outputs": [],
   "source": [
    "df['sentence'] = df['sentence'].str.replace(\"é\", 'e')\n",
    "df['sentence'] = df['sentence'].str.replace(\"è\", 'e')\n",
    "df['sentence'] = df['sentence'].str.replace(\"ê\", 'e')\n",
    "#df['sentence'] = df['sentence'].str.replace(\"à\", 'a')\n",
    "df['sentence'] = df['sentence'].str.replace(\"ç\", 'c')"
   ]
  },
  {
   "cell_type": "code",
   "execution_count": 16,
   "metadata": {},
   "outputs": [
    {
     "name": "stderr",
     "output_type": "stream",
     "text": [
      "<ipython-input-16-98aaf6827679>:4: FutureWarning: The default value of regex will change from True to False in a future version.\n",
      "  df['sentence'] = df['sentence'].str.replace(regex_stopword, ' ')\n"
     ]
    }
   ],
   "source": [
    "for stop_word in fr_stop_words:\n",
    "\n",
    "    regex_stopword = r\"\\b\" + stop_word + r\"\\b\"\n",
    "    df['sentence'] = df['sentence'].str.replace(regex_stopword, ' ')\n",
    "    df['sentence'] = df['sentence'].apply(lambda x: x.split())\n",
    "    df['sentence'] = df['sentence'].apply(lambda x: ' '.join([word for word in x]))"
   ]
  },
  {
   "cell_type": "code",
   "execution_count": 17,
   "metadata": {
    "collapsed": true
   },
   "outputs": [],
   "source": [
    "punctuation_signs = list(\"#{}()[|=+]:,;^~'_-%`@$¤£^¨*µù%!§/\")"
   ]
  },
  {
   "cell_type": "code",
   "execution_count": 18,
   "metadata": {},
   "outputs": [
    {
     "name": "stderr",
     "output_type": "stream",
     "text": [
      "<ipython-input-18-8013ab368956>:2: FutureWarning: The default value of regex will change from True to False in a future version. In addition, single character regular expressions will*not* be treated as literal strings when regex=True.\n",
      "  df['sentence'] = df['sentence'].str.replace(punct_sign, ' ')\n"
     ]
    }
   ],
   "source": [
    "for punct_sign in punctuation_signs:\n",
    "    df['sentence'] = df['sentence'].str.replace(punct_sign, ' ')"
   ]
  },
  {
   "cell_type": "code",
   "execution_count": 19,
   "metadata": {
    "collapsed": true
   },
   "outputs": [],
   "source": [
    "df[\"sentence\"] = df[\"sentence\"].apply(lambda x: x.replace(\"sad\", \"\"))\n",
    "df[\"sentence\"] = df[\"sentence\"].apply(lambda x: x.replace(\"dhs\", \"\"))\n",
    "df[\"sentence\"] = df[\"sentence\"].apply(lambda x: x.replace(\"hs\", \"\"))\n",
    "df[\"sentence\"] = df[\"sentence\"].apply(lambda x: x.replace(\"dh\", \"\"))\n",
    "df[\"sentence\"] = df[\"sentence\"].apply(lambda x: x.replace(\"mad\", \"\"))\n",
    "df[\"sentence\"] = df[\"sentence\"].apply(lambda x: x.replace(\"dirhams\", \"\"))\n",
    "df[\"sentence\"] = df[\"sentence\"].apply(lambda x: x.replace(\"dirham\", \"\"))"
   ]
  },
  {
   "cell_type": "code",
   "execution_count": 20,
   "metadata": {
    "collapsed": true
   },
   "outputs": [],
   "source": [
    "unwanted_words = ['sainter', 'chaquinter', 'esarl', 'inter', 'osall', 'sain', 'or', 'var', 'vices', 'assistance', 'oocentimes', 'stier'] "
   ]
  },
  {
   "cell_type": "code",
   "execution_count": 21,
   "metadata": {
    "collapsed": true
   },
   "outputs": [],
   "source": [
    "for word in unwanted_words:\n",
    "    df[\"sentence\"] = df[\"sentence\"].apply(lambda x: x.split())\n",
    "    df[\"sentence\"] = df[\"sentence\"].apply(lambda x: [e for e in x if e not in unwanted_words])\n",
    "    df[\"sentence\"] = df[\"sentence\"].apply(lambda x: [e for e in x if len(e)>=2])\n",
    "    df[\"sentence\"] = df[\"sentence\"].apply(lambda x: [e for e in x if not e.startswith(\".\")])\n",
    "    df[\"sentence\"] = df[\"sentence\"].apply(lambda x: \" \".join(x))"
   ]
  },
  {
   "cell_type": "code",
   "execution_count": 22,
   "metadata": {
    "collapsed": true
   },
   "outputs": [],
   "source": [
    "df[\"numerical_values\"] = df[\"sentence\"].apply(lambda x: x.split())\n",
    "df[\"numerical_values\"] = df[\"numerical_values\"].apply(lambda x: [e for e in x if any(char for char in e if char.isdigit())])\n",
    "df[\"numerical_values\"] = df[\"numerical_values\"].apply(lambda x: [e.translate({ord(i): None for i in letters}) for e in x])\n",
    "df[\"numerical_values\"] = df[\"numerical_values\"].apply(lambda x: [float(e) for e in x])\n",
    "df[\"numerical_values\"] = df[\"numerical_values\"].apply(lambda x: [e for e in x if e!=0])\n",
    "df[\"numerical_values\"] = df[\"numerical_values\"].apply(lambda x: [round(e,1) for e in x])"
   ]
  },
  {
   "cell_type": "code",
   "execution_count": 23,
   "metadata": {
    "collapsed": true
   },
   "outputs": [],
   "source": [
    "df[\"len_numerical_values\"] = df[\"numerical_values\"].apply(lambda x: len(x))"
   ]
  },
  {
   "cell_type": "code",
   "execution_count": 24,
   "metadata": {},
   "outputs": [
    {
     "data": {
      "text/plain": [
       "<AxesSubplot:ylabel='len_numerical_values'>"
      ]
     },
     "execution_count": 24,
     "metadata": {},
     "output_type": "execute_result"
    },
    {
     "data": {
      "image/png": "[encoded data removed]",
      "text/plain": [
       "<Figure size 432x288 with 1 Axes>"
      ]
     },
     "metadata": {},
     "output_type": "display_data"
    }
   ],
   "source": [
    "df[\"len_numerical_values\"].value_counts().plot.pie()"
   ]
  },
  {
   "cell_type": "code",
   "execution_count": 25,
   "metadata": {
    "collapsed": true
   },
   "outputs": [],
   "source": [
    "indices = []\n",
    "for ligne in df[[\"numerical_values\", \"label\"]].itertuples():\n",
    "    try:\n",
    "        indices.append(ligne[1].index(ligne[2]))\n",
    "    except:\n",
    "        print(ligne)"
   ]
  },
  {
   "cell_type": "code",
   "execution_count": 26,
   "metadata": {
    "collapsed": true
   },
   "outputs": [],
   "source": [
    "df[\"label_index\"] = indices"
   ]
  },
  {
   "cell_type": "code",
   "execution_count": 27,
   "metadata": {
    "collapsed": true
   },
   "outputs": [],
   "source": [
    "train_tagged = df.apply(lambda r: TaggedDocument(words=word_tokenize(r['sentence']), tags=[r.indice]), axis=1)"
   ]
  },
  {
   "cell_type": "code",
   "execution_count": 28,
   "metadata": {},
   "outputs": [
    {
     "name": "stdout",
     "output_type": "stream",
     "text": [
      "Wall time: 384 ms\n"
     ]
    }
   ],
   "source": [
    "model = gensim.models.Doc2Vec.load('doc2vecRound1.model')\n",
    "%time df[\"vectors\"] = df.apply(lambda x: model.infer_vector(word_tokenize(x['sentence'].replace(';', ''))), axis=1)"
   ]
  },
  {
   "cell_type": "code",
   "execution_count": 29,
   "metadata": {
    "collapsed": true
   },
   "outputs": [],
   "source": [
    "vector_size = 400\n",
    "def generateColNames():\n",
    "    arr = []\n",
    "    for i in range(vector_size):\n",
    "        arr.append(\"keyword\" + str(i+1))\n",
    "    return arr"
   ]
  },
  {
   "cell_type": "code",
   "execution_count": 30,
   "metadata": {
    "collapsed": true
   },
   "outputs": [],
   "source": [
    "newCols = generateColNames()"
   ]
  },
  {
   "cell_type": "code",
   "execution_count": 31,
   "metadata": {},
   "outputs": [
    {
     "name": "stdout",
     "output_type": "stream",
     "text": [
      "Wall time: 166 ms\n"
     ]
    }
   ],
   "source": [
    "%time df[newCols] = pd.DataFrame(df.vectors.values.tolist(), index=df.index)"
   ]
  },
  {
   "cell_type": "code",
   "execution_count": 33,
   "metadata": {
    "collapsed": true
   },
   "outputs": [],
   "source": [
    "keyword1Start = 7\n",
    "dataframeX = pd.concat([df.iloc[:,keyword1Start:vector_size+keyword1Start], df[\"len_numerical_values\"]], axis=1)\n",
    "dataframeY = df[['label_index']]"
   ]
  },
  {
   "cell_type": "code",
   "execution_count": 36,
   "metadata": {
    "collapsed": true
   },
   "outputs": [],
   "source": [
    "model = pickle.load(open(\"XGBoost Model.pkl\", \"rb\"))"
   ]
  },
  {
   "cell_type": "code",
   "execution_count": 43,
   "metadata": {
    "collapsed": true
   },
   "outputs": [],
   "source": [
    "y_pred = model.predict(dataframeX)\n",
    "predictions = [round(value) for value in y_pred]"
   ]
  },
  {
   "cell_type": "code",
   "execution_count": 44,
   "metadata": {
    "collapsed": true
   },
   "outputs": [],
   "source": [
    "predDF = pd.DataFrame()\n",
    "predDF[\"predictions\"] = predictions"
   ]
  },
  {
   "cell_type": "code",
   "execution_count": 45,
   "metadata": {},
   "outputs": [
    {
     "name": "stdout",
     "output_type": "stream",
     "text": [
      "Accuracy: 95.40%\n"
     ]
    }
   ],
   "source": [
    "accuracy = accuracy_score(dataframeY, predictions)\n",
    "print(\"Accuracy: %.2f%%\" % (accuracy * 100.0))"
   ]
  },
  {
   "cell_type": "code",
   "execution_count": 46,
   "metadata": {
    "collapsed": true
   },
   "outputs": [],
   "source": [
    "testResults = pd.concat([df, predDF], axis=1)"
   ]
  },
  {
   "cell_type": "code",
   "execution_count": 48,
   "metadata": {
    "collapsed": true
   },
   "outputs": [],
   "source": [
    "isEqual = np.where(testResults[\"label_index\"]==testResults[\"predictions\"], True, False)\n",
    "testResults[\"isEqual\"] = isEqual"
   ]
  },
  {
   "cell_type": "code",
   "execution_count": 49,
   "metadata": {
    "collapsed": true
   },
   "outputs": [],
   "source": [
    "testResults = testResults[['indice', 'sentence', 'label', 'numerical_values',\n",
    "       'len_numerical_values', 'label_index', 'predictions', 'isEqual']]"
   ]
  },
  {
   "cell_type": "code",
   "execution_count": 50,
   "metadata": {},
   "outputs": [
    {
     "data": {
      "text/plain": [
       "Index(['indice', 'sentence', 'label', 'numerical_values',\n",
       "       'len_numerical_values', 'label_index', 'predictions', 'isEqual'],\n",
       "      dtype='object')"
      ]
     },
     "execution_count": 50,
     "metadata": {},
     "output_type": "execute_result"
    }
   ],
   "source": [
    "testResults.columns"
   ]
  },
  {
   "cell_type": "code",
   "execution_count": 51,
   "metadata": {
    "collapsed": true
   },
   "outputs": [],
   "source": [
    "testResults.to_excel(\"testResults(Test_CSV).xlsx\", index=None)"
   ]
  },
  {
   "cell_type": "code",
   "execution_count": null,
   "metadata": {
    "collapsed": true
   },
   "outputs": [],
   "source": []
  }
 ],
 "metadata": {
  "kernelspec": {
   "display_name": "Python 3",
   "language": "python",
   "name": "python3"
  },
  "language_info": {
   "codemirror_mode": {
    "name": "ipython",
    "version": 3
   },
   "file_extension": ".py",
   "mimetype": "text/x-python",
   "name": "python",
   "nbconvert_exporter": "python",
   "pygments_lexer": "ipython3",
   "version": "3.6.3"
  }
 },
 "nbformat": 4,
 "nbformat_minor": 5
}
